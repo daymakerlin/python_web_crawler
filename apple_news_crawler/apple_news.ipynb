{
 "cells": [
  {
   "cell_type": "markdown",
   "metadata": {},
   "source": [
    "從《Python 網路爬蟲與資料分析入門實戰》第三章的範例中練習爬蟲\n",
    "\n",
    "從第三章蘋果日報今日熱門爬蟲範例中練習自己寫的程式碼\n",
    "\n",
    "書中原始程式碼來源：https://github.com/jwlin/web-crawler-tutorial/tree/master/ch3"
   ]
  },
  {
   "cell_type": "markdown",
   "metadata": {},
   "source": [
    "# 今日熱門新聞：(1)爬取資料 (2)儲存資料"
   ]
  },
  {
   "cell_type": "code",
   "execution_count": 1,
   "metadata": {},
   "outputs": [
    {
     "name": "stdout",
     "output_type": "stream",
     "text": [
      "[{'number': '01', 'title': '人渣文本專欄：國民黨射得出核彈嗎？（周偉航）', 'href': 'https://tw.news.appledaily.com/headline/daily/20191209/38516990'}, {'number': '02', 'title': '《蘋果》最新民調明刊登 韓靠網軍案反攻嗎', 'href': 'https://tw.news.appledaily.com/headline/daily/20191209/38517357'}, {'number': '03', 'title': '陳玉珍被夾手指 自己人下重手 影片還原 驚見黃昭順「塞門縫 加壓」', 'href': 'https://tw.news.appledaily.com/headline/daily/20191209/38517330'}, {'number': '04', 'title': '【選戰袐辛】葉元之玻璃心碎了 討拍佳芬姊呼呼', 'href': 'https://tw.news.appledaily.com/headline/daily/20191209/38517485'}, {'number': '05', 'title': '夾手指片一夜狂看30遍 卓榮泰：我無法入睡一直笑', 'href': 'https://tw.news.appledaily.com/headline/daily/20191209/38517334'}, {'number': '06', 'title': '認愛助理10餘年 「感情非人生重點」', 'href': 'https://tw.news.appledaily.com/headline/daily/20191209/38517376'}, {'number': '07', 'title': '汪用和黃光芹求子失敗 領養之愛超越血緣', 'href': 'https://tw.news.appledaily.com/headline/daily/20191209/38517509'}, {'number': '08', 'title': '為人權日而走 80萬港人 向世界展現堅持', 'href': 'https://tw.news.appledaily.com/headline/daily/20191209/38517156'}, {'number': '09', 'title': '小嫻 找代孕先寫遺書 3度赴美取卵天天暴哭', 'href': 'https://tw.news.appledaily.com/headline/daily/20191209/38517029'}, {'number': '10', 'title': '台美同現缺口轉強 被動矽晶圓看漲', 'href': 'https://tw.news.appledaily.com/headline/daily/20191209/38516937'}, {'number': '11', 'title': '「斬紅流」賴清德贈劍許淑華 「刺客」皮衣吸睛 高喊為台灣而戰', 'href': 'https://tw.news.appledaily.com/headline/daily/20191209/38517347'}, {'number': '12', 'title': '蔡搶太空商機 拋自製衛星 強調「沒有要征服宇宙」 暗酸韓國瑜', 'href': 'https://tw.news.appledaily.com/headline/daily/20191209/38517340'}, {'number': '13', 'title': '澤尻 勒戒抱頭悔哭 洋媽怒嗆毒情郎', 'href': 'https://tw.news.appledaily.com/headline/daily/20191209/38517089'}, {'number': '14', 'title': '10萬人見證 禿子漢子同框 朱立倫接全國競總主委 韓國瑜：鑽石三角成形', 'href': 'https://tw.news.appledaily.com/headline/daily/20191209/38517319'}, {'number': '15', 'title': '盲目追求全球排名 成就了什麼（黃揚名）', 'href': 'https://tw.news.appledaily.com/headline/daily/20191209/38516996'}, {'number': '16', 'title': '高宇蓁 員工惡搞 40壽星婆慘被整', 'href': 'https://tw.news.appledaily.com/headline/daily/20191209/38517060'}, {'number': '17', 'title': '《紐時》揭露 200示威者 搏命偷渡逃台灣「只因丟了一塊磚 便可能判10年」', 'href': 'https://tw.news.appledaily.com/headline/daily/20191209/38517172'}, {'number': '18', 'title': '金友莊雪白母女腿踩街 根本偽姊妹花', 'href': 'https://tw.news.appledaily.com/headline/daily/20191209/38517074'}, {'number': '19', 'title': '【我最嘴】臉書連寫7個「氣」 急診醫「影評」犀利', 'href': 'https://tw.news.appledaily.com/headline/daily/20191209/38517475'}, {'number': '20', 'title': '兄駕老車載弟自撞 車成廢鐵黏樹雙亡', 'href': 'https://tw.news.appledaily.com/headline/daily/20191209/38517255'}, {'number': '21', 'title': '藍喊韓民調靠卡神案多8% 柯文哲：沒翻盤也沒用', 'href': 'https://tw.news.appledaily.com/headline/daily/20191209/38517354'}, {'number': '22', 'title': '莫文蔚 精靈最後一唱 勾憲哥《廣島之戀》', 'href': 'https://tw.news.appledaily.com/headline/daily/20191209/38517044'}, {'number': '23', 'title': '漂亮吳海英嫁了 峇里島升格醫生娘', 'href': 'https://tw.news.appledaily.com/headline/daily/20191209/38517104'}, {'number': '24', 'title': '席琳嫩桃花帶衰 冠軍新輯1周暴跌百名', 'href': 'https://tw.news.appledaily.com/headline/daily/20191209/38517094'}, {'number': '25', 'title': '痴男強擄滷肉飯千金示愛 一見傾心 多次搭訕未果 開車埋伏背後熊抱', 'href': 'https://tw.news.appledaily.com/headline/daily/20191209/38517225'}, {'number': '26', 'title': '許純美冬裝顯瘦喔 學佛style藏不住品味', 'href': 'https://tw.news.appledaily.com/headline/daily/20191209/38517080'}, {'number': '27', 'title': '金宇彬 鬥癌2年復出見粉絲 李光洙催淚攬牢牢', 'href': 'https://tw.news.appledaily.com/headline/daily/20191209/38517100'}, {'number': '28', 'title': '5連勝緊咬湖人 獨行俠翻身 季後賽在望', 'href': 'https://tw.news.appledaily.com/headline/daily/20191209/38517270'}, {'number': '29', 'title': '吳思瑤陷苦戰 游錫堃奉茶助陣', 'href': 'https://tw.news.appledaily.com/headline/daily/20191209/38517351'}, {'number': '30', 'title': '【立委面對面】基隆小百貨行 養大港湖女神 高嘉瑜', 'href': 'https://tw.news.appledaily.com/headline/daily/20191209/38517360'}]\n"
     ]
    }
   ],
   "source": [
    "import requests\n",
    "from bs4 import BeautifulSoup\n",
    "\n",
    "url='https://tw.appledaily.com/hot/daily'\n",
    "\n",
    "#1.向網站發出請求\n",
    "resp = requests.get(url)\n",
    "#2.剖析網站原始碼\n",
    "soup = BeautifulSoup(resp.text, 'html5lib')\n",
    "#3.定位資訊的大概位置:ul標籤all屬性中所有li標籤\n",
    "apple = soup.find('ul', 'all').find_all('li')\n",
    "#4.創造空的清單(放爬下來的資料)\n",
    "news = []\n",
    "\n",
    "#5.用迴圈將所需資訊一行一行爬取出來\n",
    "for a in apple:\n",
    "    #5.1創建一個空的字典(放資料)\n",
    "    new=dict()\n",
    "    #5.2創造「編號」:定位div標籤名稱/aht_title_num屬性的字串(30個新聞位置的共同名稱)\n",
    "    new['number']=a.find('div', 'aht_title_num').text\n",
    "    #5.3創造「新聞標題」:定位div標籤名稱/aht_title屬性的字串\n",
    "    new['title']=a.find('div', 'aht_title').text\n",
    "    #5.4創造「網址」:定位div標籤名稱/aht_title屬性/a標籤中的網址屬性\n",
    "    new['href']=a.find('div', 'aht_title').a['href']\n",
    "    #5.5將資料加進原先的清單中\n",
    "    news.append(new)\n",
    "    #5.6印出結果\n",
    "print(news)"
   ]
  },
  {
   "cell_type": "code",
   "execution_count": 2,
   "metadata": {},
   "outputs": [
    {
     "name": "stdout",
     "output_type": "stream",
     "text": [
      "                                                     href  \\\n",
      "number                                                      \n",
      "01      https://tw.news.appledaily.com/headline/daily/...   \n",
      "02      https://tw.news.appledaily.com/headline/daily/...   \n",
      "03      https://tw.news.appledaily.com/headline/daily/...   \n",
      "04      https://tw.news.appledaily.com/headline/daily/...   \n",
      "05      https://tw.news.appledaily.com/headline/daily/...   \n",
      "06      https://tw.news.appledaily.com/headline/daily/...   \n",
      "07      https://tw.news.appledaily.com/headline/daily/...   \n",
      "08      https://tw.news.appledaily.com/headline/daily/...   \n",
      "09      https://tw.news.appledaily.com/headline/daily/...   \n",
      "10      https://tw.news.appledaily.com/headline/daily/...   \n",
      "11      https://tw.news.appledaily.com/headline/daily/...   \n",
      "12      https://tw.news.appledaily.com/headline/daily/...   \n",
      "13      https://tw.news.appledaily.com/headline/daily/...   \n",
      "14      https://tw.news.appledaily.com/headline/daily/...   \n",
      "15      https://tw.news.appledaily.com/headline/daily/...   \n",
      "16      https://tw.news.appledaily.com/headline/daily/...   \n",
      "17      https://tw.news.appledaily.com/headline/daily/...   \n",
      "18      https://tw.news.appledaily.com/headline/daily/...   \n",
      "19      https://tw.news.appledaily.com/headline/daily/...   \n",
      "20      https://tw.news.appledaily.com/headline/daily/...   \n",
      "21      https://tw.news.appledaily.com/headline/daily/...   \n",
      "22      https://tw.news.appledaily.com/headline/daily/...   \n",
      "23      https://tw.news.appledaily.com/headline/daily/...   \n",
      "24      https://tw.news.appledaily.com/headline/daily/...   \n",
      "25      https://tw.news.appledaily.com/headline/daily/...   \n",
      "26      https://tw.news.appledaily.com/headline/daily/...   \n",
      "27      https://tw.news.appledaily.com/headline/daily/...   \n",
      "28      https://tw.news.appledaily.com/headline/daily/...   \n",
      "29      https://tw.news.appledaily.com/headline/daily/...   \n",
      "30      https://tw.news.appledaily.com/headline/daily/...   \n",
      "\n",
      "                                         title  \n",
      "number                                          \n",
      "01                      人渣文本專欄：國民黨射得出核彈嗎？（周偉航）  \n",
      "02                        《蘋果》最新民調明刊登 韓靠網軍案反攻嗎  \n",
      "03           陳玉珍被夾手指 自己人下重手 影片還原 驚見黃昭順「塞門縫 加壓」  \n",
      "04                      【選戰袐辛】葉元之玻璃心碎了 討拍佳芬姊呼呼  \n",
      "05                    夾手指片一夜狂看30遍 卓榮泰：我無法入睡一直笑  \n",
      "06                          認愛助理10餘年 「感情非人生重點」  \n",
      "07                         汪用和黃光芹求子失敗 領養之愛超越血緣  \n",
      "08                        為人權日而走 80萬港人 向世界展現堅持  \n",
      "09                       小嫻 找代孕先寫遺書 3度赴美取卵天天暴哭  \n",
      "10                            台美同現缺口轉強 被動矽晶圓看漲  \n",
      "11              「斬紅流」賴清德贈劍許淑華 「刺客」皮衣吸睛 高喊為台灣而戰  \n",
      "12              蔡搶太空商機 拋自製衛星 強調「沒有要征服宇宙」 暗酸韓國瑜  \n",
      "13                           澤尻 勒戒抱頭悔哭 洋媽怒嗆毒情郎  \n",
      "14         10萬人見證 禿子漢子同框 朱立倫接全國競總主委 韓國瑜：鑽石三角成形  \n",
      "15                         盲目追求全球排名 成就了什麼（黃揚名）  \n",
      "16                           高宇蓁 員工惡搞 40壽星婆慘被整  \n",
      "17      《紐時》揭露 200示威者 搏命偷渡逃台灣「只因丟了一塊磚 便可能判10年」  \n",
      "18                           金友莊雪白母女腿踩街 根本偽姊妹花  \n",
      "19                    【我最嘴】臉書連寫7個「氣」 急診醫「影評」犀利  \n",
      "20                           兄駕老車載弟自撞 車成廢鐵黏樹雙亡  \n",
      "21                     藍喊韓民調靠卡神案多8% 柯文哲：沒翻盤也沒用  \n",
      "22                        莫文蔚 精靈最後一唱 勾憲哥《廣島之戀》  \n",
      "23                            漂亮吳海英嫁了 峇里島升格醫生娘  \n",
      "24                          席琳嫩桃花帶衰 冠軍新輯1周暴跌百名  \n",
      "25            痴男強擄滷肉飯千金示愛 一見傾心 多次搭訕未果 開車埋伏背後熊抱  \n",
      "26                       許純美冬裝顯瘦喔 學佛style藏不住品味  \n",
      "27                      金宇彬 鬥癌2年復出見粉絲 李光洙催淚攬牢牢  \n",
      "28                         5連勝緊咬湖人 獨行俠翻身 季後賽在望  \n",
      "29                              吳思瑤陷苦戰 游錫堃奉茶助陣  \n",
      "30                    【立委面對面】基隆小百貨行 養大港湖女神 高嘉瑜  \n"
     ]
    }
   ],
   "source": [
    "import pandas as pd\n",
    "import numpy as np  \n",
    "\n",
    "#6.處理資料並儲存\n",
    "    #6.1將資料轉為dataframe型態\n",
    "test=pd.DataFrame(data=news)\n",
    "    #6.2將內建索引值替換為「編號」\n",
    "test.set_index('number', inplace=True)\n",
    "    #6.3印出結果\n",
    "print(test)\n",
    "    #6.4儲存成csv檔案\n",
    "test.to_csv('news.csv',encoding='utf_8_sig')"
   ]
  },
  {
   "cell_type": "markdown",
   "metadata": {},
   "source": [
    "# 無註解程式碼"
   ]
  },
  {
   "cell_type": "code",
   "execution_count": null,
   "metadata": {
    "collapsed": true
   },
   "outputs": [],
   "source": [
    "import requests\n",
    "from bs4 import BeautifulSoup\n",
    "import pandas as pd\n",
    "import numpy as np  \n",
    "\n",
    "\n",
    "url='https://tw.appledaily.com/hot/daily'\n",
    "\n",
    "resp = requests.get(url)\n",
    "soup = BeautifulSoup(resp.text, 'html5lib')\n",
    "apple = soup.find('ul', 'all').find_all('li')\n",
    "news = []\n",
    "\n",
    "for a in apple:\n",
    "    new=dict()\n",
    "    new['number']=a.find('div', 'aht_title_num').text\n",
    "    new['title']=a.find('div', 'aht_title').text\n",
    "    new['href']=a.find('div', 'aht_title').a['href']\n",
    "    news.append(new)\n",
    "\n",
    "print(news)\n",
    " \n",
    "\n",
    "test=pd.DataFrame(data=news)\n",
    "test.set_index('number', inplace=True)\n",
    "print(test)\n",
    "test.to_csv('news.csv',encoding='utf_8_sig')"
   ]
  },
  {
   "cell_type": "markdown",
   "metadata": {},
   "source": [
    "# urllib套件版本的爬蟲"
   ]
  },
  {
   "cell_type": "code",
   "execution_count": null,
   "metadata": {
    "collapsed": true
   },
   "outputs": [],
   "source": [
    "import urllib.request\n",
    "from bs4 import BeautifulSoup\n",
    "import pandas as pd\n",
    "import numpy as np  \n",
    "\n",
    "\n",
    "url='https://tw.appledaily.com/hot/daily'\n",
    "\n",
    "resp = urllib.request.urlopen(url).read()\n",
    "soup = BeautifulSoup(resp, 'html5lib')\n",
    "apple = soup.find('ul', 'all').find_all('li')\n",
    "news = []\n",
    "\n",
    "for a in apple:\n",
    "    new=dict()\n",
    "    new['number']=a.find('div', 'aht_title_num').text\n",
    "    new['title']=a.find('div', 'aht_title').text\n",
    "    new['href']=a.find('div', 'aht_title').a['href']\n",
    "    news.append(new)\n",
    "\n",
    "print(news)\n",
    " \n",
    "\n",
    "test=pd.DataFrame(data=news)\n",
    "test.set_index('number', inplace=True)\n",
    "print(test)\n",
    "test.to_csv('news.csv',encoding='utf_8_sig')"
   ]
  }
 ],
 "metadata": {
  "kernelspec": {
   "display_name": "Python 3",
   "language": "python",
   "name": "python3"
  },
  "language_info": {
   "codemirror_mode": {
    "name": "ipython",
    "version": 3
   },
   "file_extension": ".py",
   "mimetype": "text/x-python",
   "name": "python",
   "nbconvert_exporter": "python",
   "pygments_lexer": "ipython3",
   "version": "3.6.2"
  }
 },
 "nbformat": 4,
 "nbformat_minor": 2
}
