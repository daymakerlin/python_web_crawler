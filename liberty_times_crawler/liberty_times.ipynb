{
 "cells": [
  {
   "cell_type": "markdown",
   "metadata": {},
   "source": [
    "從《Python 網路爬蟲與資料分析入門實戰》第三章的範例中練習爬蟲\n",
    "\n",
    "從第三章自由時報今日熱門爬蟲範例中練習自己寫的程式碼\n",
    "\n",
    "書中原始程式碼來源：https://github.com/jwlin/web-crawler-tutorial/tree/master/ch3"
   ]
  },
  {
   "cell_type": "markdown",
   "metadata": {},
   "source": [
    "# 今日熱門新聞：(1)爬取資料 (2)儲存資料"
   ]
  },
  {
   "cell_type": "markdown",
   "metadata": {},
   "source": [
    "###  1.爬取資料"
   ]
  },
  {
   "cell_type": "code",
   "execution_count": 1,
   "metadata": {},
   "outputs": [
    {
     "name": "stdout",
     "output_type": "stream",
     "text": [
      "[{'title': '驚！韓國瑜新北造勢時隔3個月 韓粉人數少了75％', 'time': '2019-12-08 19:28', 'href': 'https://news.ltn.com.tw/news/politics/breakingnews/3002676'}, {'title': 'CBA》可悲！全場向吉喆默哀 中國球迷素質讓林書豪動怒了', 'time': '12:10', 'href': 'https://sports.ltn.com.tw/news/breakingnews/3003193'}, {'title': '日學者警告：慎防中共暗殺台灣總統候選人', 'time': '06:18', 'href': 'https://news.ltn.com.tw/news/politics/breakingnews/3002925'}, {'title': '點名柯P一手催生韓流！陸之駿：2致命錯誤註定滅亡', 'time': '01:02', 'href': 'https://news.ltn.com.tw/news/politics/breakingnews/3002938'}, {'title': 'MLB》「歷史級鉅約」來了！ 洋基已開史上最狂合約給柯爾', 'time': '07:33', 'href': 'https://sports.ltn.com.tw/news/breakingnews/3002965'}, {'title': '200餘香港示威者逃往台灣！ 紐時：台北長老教會牧師居中聯繫', 'time': '2019-12-08 17:15', 'href': 'https://news.ltn.com.tw/news/world/breakingnews/3002543'}, {'title': '貨車司機玩命國道逼車、驟停致連環撞 公共危險判刑', 'time': '2019-12-08 22:24', 'href': 'https://news.ltn.com.tw/news/society/breakingnews/3002703'}, {'title': '超諷刺！陳玉珍粉專疑關閉 臉書顯示「右手」包紮OK繃', 'time': '2019-12-08 18:57', 'href': 'https://news.ltn.com.tw/news/politics/breakingnews/3002635'}, {'title': 'CBA》裁判幫大忙！林書豪零秒罰3球「絕殺」對手奪勝', 'time': '2019-12-08 22:02', 'href': 'https://sports.ltn.com.tw/news/breakingnews/3002885'}, {'title': 'CBA》中媒驚呼神劇本！ 林書豪完美詮釋沒有不可能（影音）', 'time': '2019-12-08 23:03', 'href': 'https://sports.ltn.com.tw/news/breakingnews/3002899'}, {'title': '體感10度以下！今晚更冷 1張圖看懂全台氣溫分布', 'time': '2019-12-08 20:34', 'href': 'https://news.ltn.com.tw/news/life/breakingnews/3002658'}, {'title': '雞排妹爆乳挺港 辣穿黑色胸罩「白皙E奶」被看光', 'time': '2019-12-08 17:01', 'href': 'https://ent.ltn.com.tw/news/breakingnews/3002666'}, {'title': '日職》老東家中日龍有興趣 陳偉殷這樣回應', 'time': '2019-12-08 17:38', 'href': 'https://sports.ltn.com.tw/news/breakingnews/3002633'}, {'title': '被質疑演很大 陳玉珍爆哭：不是我願意躺哪裡就可以...', 'time': '12:26', 'href': 'https://news.ltn.com.tw/news/politics/breakingnews/3003217'}, {'title': '63歲陳美鳳脫了！海咪咪「漂浮奶球」太震撼', 'time': '2019-12-08 20:57', 'href': 'https://ent.ltn.com.tw/news/breakingnews/3002831'}, {'title': '香港人反抗》黑潮再現！民陣「國際人權日」遊行人數破80萬', 'time': '2019-12-08 23:02', 'href': 'https://news.ltn.com.tw/news/world/breakingnews/3002526'}, {'title': '奧運資格賽》大洋洲代表出爐！ 台灣隊首戰強碰澳洲', 'time': '2019-12-08 17:29', 'href': 'https://sports.ltn.com.tw/news/breakingnews/3002663'}, {'title': '洪耀南：韓防觸及381萬票底線、蔡可能比2016贏的多', 'time': '07:29', 'href': 'https://news.ltn.com.tw/news/politics/breakingnews/3002956'}, {'title': '不知人生起伏大 李佳芬：2020是史上最骯髒選舉', 'time': '00:55', 'href': 'https://news.ltn.com.tw/news/politics/breakingnews/3002939'}, {'title': '韓國瑜指蔣經國綜合這2人？宋楚瑜痛批：搞不清楚歷史', 'time': '2019-12-08 19:59', 'href': 'https://news.ltn.com.tw/news/politics/breakingnews/3002684'}]\n"
     ]
    }
   ],
   "source": [
    "import requests\n",
    "import re\n",
    "from bs4 import BeautifulSoup\n",
    " \n",
    "#1.與網站溝通\n",
    "resp = requests.get('https://news.ltn.com.tw/list/breakingnews/popular')\n",
    "#2.剖析原始碼\n",
    "soup = BeautifulSoup(resp.text, 'html5lib')\n",
    "#3.定位資訊大概位置\n",
    "liberty = soup.find('ul', 'list').find_all('li')\n",
    "#4.創造空的清單存放資訊\n",
    "news=[]\n",
    "\n",
    "#5.迴圈爬取資料\n",
    "for a in liberty:\n",
    "    #5.1創造空的字典存放各筆資訊\n",
    "    new=dict()\n",
    "    #5.2創造「標題」:位置span標籤名稱/title屬性的字串\n",
    "    new['title'] =a.find('span','title').text.strip()\n",
    "    #5.3創造「時間」：位置span標籤名稱/time屬性的字串\n",
    "    new['time'] =a.find('span','time').text.strip()\n",
    "    #5.4創造「網址」:位置a標籤tit屬性的網址\n",
    "    new['href'] =a.find('a','tit')['href']\n",
    "    #5.5將各比資訊加回清單中\n",
    "    news.append(new)\n",
    "    #5.6印出結果\n",
    "print(news)"
   ]
  },
  {
   "cell_type": "markdown",
   "metadata": {},
   "source": [
    "### 2.處理資料並儲存"
   ]
  },
  {
   "cell_type": "code",
   "execution_count": 2,
   "metadata": {},
   "outputs": [
    {
     "name": "stdout",
     "output_type": "stream",
     "text": [
      "                                                       href              time  \\\n",
      "news_NO.                                                                        \n",
      "1         https://news.ltn.com.tw/news/politics/breaking...  2019-12-08 19:28   \n",
      "2         https://sports.ltn.com.tw/news/breakingnews/30...             12:10   \n",
      "3         https://news.ltn.com.tw/news/politics/breaking...             06:18   \n",
      "4         https://news.ltn.com.tw/news/politics/breaking...             01:02   \n",
      "5         https://sports.ltn.com.tw/news/breakingnews/30...             07:33   \n",
      "6         https://news.ltn.com.tw/news/world/breakingnew...  2019-12-08 17:15   \n",
      "7         https://news.ltn.com.tw/news/society/breakingn...  2019-12-08 22:24   \n",
      "8         https://news.ltn.com.tw/news/politics/breaking...  2019-12-08 18:57   \n",
      "9         https://sports.ltn.com.tw/news/breakingnews/30...  2019-12-08 22:02   \n",
      "10        https://sports.ltn.com.tw/news/breakingnews/30...  2019-12-08 23:03   \n",
      "11        https://news.ltn.com.tw/news/life/breakingnews...  2019-12-08 20:34   \n",
      "12         https://ent.ltn.com.tw/news/breakingnews/3002666  2019-12-08 17:01   \n",
      "13        https://sports.ltn.com.tw/news/breakingnews/30...  2019-12-08 17:38   \n",
      "14        https://news.ltn.com.tw/news/politics/breaking...             12:26   \n",
      "15         https://ent.ltn.com.tw/news/breakingnews/3002831  2019-12-08 20:57   \n",
      "16        https://news.ltn.com.tw/news/world/breakingnew...  2019-12-08 23:02   \n",
      "17        https://sports.ltn.com.tw/news/breakingnews/30...  2019-12-08 17:29   \n",
      "18        https://news.ltn.com.tw/news/politics/breaking...             07:29   \n",
      "19        https://news.ltn.com.tw/news/politics/breaking...             00:55   \n",
      "20        https://news.ltn.com.tw/news/politics/breaking...  2019-12-08 19:59   \n",
      "\n",
      "                                   title  \n",
      "news_NO.                                  \n",
      "1               驚！韓國瑜新北造勢時隔3個月 韓粉人數少了75％  \n",
      "2           CBA》可悲！全場向吉喆默哀 中國球迷素質讓林書豪動怒了  \n",
      "3                    日學者警告：慎防中共暗殺台灣總統候選人  \n",
      "4               點名柯P一手催生韓流！陸之駿：2致命錯誤註定滅亡  \n",
      "5           MLB》「歷史級鉅約」來了！ 洋基已開史上最狂合約給柯爾  \n",
      "6         200餘香港示威者逃往台灣！ 紐時：台北長老教會牧師居中聯繫  \n",
      "7               貨車司機玩命國道逼車、驟停致連環撞 公共危險判刑  \n",
      "8             超諷刺！陳玉珍粉專疑關閉 臉書顯示「右手」包紮OK繃  \n",
      "9             CBA》裁判幫大忙！林書豪零秒罰3球「絕殺」對手奪勝  \n",
      "10         CBA》中媒驚呼神劇本！ 林書豪完美詮釋沒有不可能（影音）  \n",
      "11              體感10度以下！今晚更冷 1張圖看懂全台氣溫分布  \n",
      "12               雞排妹爆乳挺港 辣穿黑色胸罩「白皙E奶」被看光  \n",
      "13                  日職》老東家中日龍有興趣 陳偉殷這樣回應  \n",
      "14           被質疑演很大 陳玉珍爆哭：不是我願意躺哪裡就可以...  \n",
      "15                 63歲陳美鳳脫了！海咪咪「漂浮奶球」太震撼  \n",
      "16          香港人反抗》黑潮再現！民陣「國際人權日」遊行人數破80萬  \n",
      "17              奧運資格賽》大洋洲代表出爐！ 台灣隊首戰強碰澳洲  \n",
      "18           洪耀南：韓防觸及381萬票底線、蔡可能比2016贏的多  \n",
      "19              不知人生起伏大 李佳芬：2020是史上最骯髒選舉  \n",
      "20             韓國瑜指蔣經國綜合這2人？宋楚瑜痛批：搞不清楚歷史  \n"
     ]
    }
   ],
   "source": [
    "import pandas as pd\n",
    "import numpy as np  \n",
    "\n",
    "#6.處理資料並儲存\n",
    "    #6.1將資料轉成dataframe\n",
    "test=pd.DataFrame(data=news)\n",
    "    #6.2將索引值從1開始\n",
    "test.index = np.arange(1,len(test)+1)\n",
    "    #6.3將索引值重新命名為編號\n",
    "test.index.names = ['news_NO.']\n",
    "    #6.4印出結果\n",
    "print(test)\n",
    "    #6.5儲存成csv檔\n",
    "test.to_csv('news.csv',encoding='utf_8_sig')"
   ]
  },
  {
   "cell_type": "markdown",
   "metadata": {},
   "source": [
    "# 無註解程式碼"
   ]
  },
  {
   "cell_type": "code",
   "execution_count": null,
   "metadata": {
    "collapsed": true
   },
   "outputs": [],
   "source": [
    "import requests\n",
    "import re\n",
    "from bs4 import BeautifulSoup\n",
    "import pandas as pd\n",
    "import numpy as np  \n",
    "\n",
    "resp = requests.get('https://news.ltn.com.tw/list/breakingnews/popular')\n",
    "soup = BeautifulSoup(resp.text, 'html5lib')\n",
    "liberty = soup.find('ul', 'list').find_all('li')\n",
    "news=[]\n",
    "\n",
    "for a in liberty:\n",
    "    new=dict()\n",
    "    new['title'] =a.find('span','title').text.strip()\n",
    "    new['time'] =a.find('span','time').text.strip()\n",
    "    new['href'] =a.find('a','tit')['href']\n",
    "    news.append(new)\n",
    "\n",
    "print(news)\n",
    "\n",
    "\n",
    "test=pd.DataFrame(data=news)\n",
    "test.index = np.arange(1,len(test)+1)\n",
    "test.index.names = ['news_NO.']\n",
    "print(test)\n",
    "test.to_csv('news.csv',encoding='utf_8_sig')"
   ]
  },
  {
   "cell_type": "markdown",
   "metadata": {},
   "source": [
    "# urllib套件版本的爬蟲"
   ]
  },
  {
   "cell_type": "code",
   "execution_count": null,
   "metadata": {
    "collapsed": true
   },
   "outputs": [],
   "source": [
    "import urllib.request\n",
    "from bs4 import BeautifulSoup\n",
    "import pandas as pd\n",
    "import numpy as np  \n",
    "\n",
    "url='https://news.ltn.com.tw/list/breakingnews/popular'\n",
    "\n",
    "resp = urllib.request.urlopen(url).read()\n",
    "soup = BeautifulSoup(resp, 'html5lib')\n",
    "liberty = soup.find('ul', 'list').find_all('li')\n",
    "news=[]\n",
    "\n",
    "for a in liberty:\n",
    "    new=dict()\n",
    "    new['title'] =a.find('span','title').text.strip()\n",
    "    new['time'] =a.find('span','time').text.strip()\n",
    "    new['href'] =a.find('a','tit')['href']\n",
    "    news.append(new)\n",
    "\n",
    "print(news)\n",
    "\n",
    "\n",
    "test=pd.DataFrame(data=news)\n",
    "test.index = np.arange(1,len(test)+1)\n",
    "test.index.names = ['news_NO.']\n",
    "print(test)\n",
    "test.to_csv('news.csv',encoding='utf_8_sig')"
   ]
  }
 ],
 "metadata": {
  "kernelspec": {
   "display_name": "Python 3",
   "language": "python",
   "name": "python3"
  },
  "language_info": {
   "codemirror_mode": {
    "name": "ipython",
    "version": 3
   },
   "file_extension": ".py",
   "mimetype": "text/x-python",
   "name": "python",
   "nbconvert_exporter": "python",
   "pygments_lexer": "ipython3",
   "version": "3.6.2"
  }
 },
 "nbformat": 4,
 "nbformat_minor": 2
}
