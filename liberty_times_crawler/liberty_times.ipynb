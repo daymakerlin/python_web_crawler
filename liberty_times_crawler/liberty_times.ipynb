{
 "cells": [
  {
   "cell_type": "markdown",
   "metadata": {},
   "source": [
    "從《Python 網路爬蟲與資料分析入門實戰》第三章的範例中練習爬蟲\n",
    "\n",
    "從第三章自由時報今日熱門爬蟲範例中練習自己寫的程式碼\n",
    "\n",
    "書中原始程式碼來源：https://github.com/jwlin/web-crawler-tutorial/tree/master/ch3"
   ]
  },
  {
   "cell_type": "markdown",
   "metadata": {},
   "source": [
    "# 今日熱門新聞：(1)爬取資料 (2)儲存資料"
   ]
  },
  {
   "cell_type": "markdown",
   "metadata": {},
   "source": [
    "###  1.爬取資料"
   ]
  },
  {
   "cell_type": "code",
   "execution_count": 1,
   "metadata": {},
   "outputs": [
    {
     "name": "stdout",
     "output_type": "stream",
     "text": [
      "[{'title': '香港局勢惡化 週刊爆陳小春幫兒子降級轉學來台', 'time': '06:35'}, {'title': '談韓國瑜現象  宋楚瑜嘆「台灣政治最大悲哀」', 'time': '06:47'}, {'title': '慟！高以翔中國錄影猝逝 享年35歲', 'time': '11:11'}, {'title': 'CBA》才打9場林書豪就傳要被換掉？ 首鋼洋教頭說話了', 'time': '08:31'}, {'title': '花750萬買名車出現瑕疵修不好 率40員工抗議', 'time': '2019-11-26 17:30'}, {'title': '高以翔昏迷猝逝 網翻節目黑歷史怒轟「快停播」', 'time': '12:07'}, {'title': '心碎！高以翔中國身亡 留下22歲白富美未婚妻', 'time': '11:50'}, {'title': '專屬翻譯蕭一傑氣到遞辭呈？ 週刊驚爆王柏融此舉成引爆點', 'time': '2019-11-26 21:23'}, {'title': '羽球》戴資穎368萬台幣被拍下 印度聯賽最高身價', 'time': '09:52'}, {'title': '爆料中共介入台灣大選  王立強投誠澳洲內幕曝光！', 'time': '06:11'}, {'title': '共諜案2人讓她痛心 黃光芹：藍營需要道歉', 'time': '00:58'}, {'title': '棒球》還記得「瓢子」嗎？ 黑豹旗成為他教練生涯終戰', 'time': '2019-11-26 17:44'}, {'title': '高以翔驚傳昏迷心臟停止跳動  緊急送醫搶救中', 'time': '07:12'}, {'title': '沈玉琳與韓市府關係好 傳公務員哥哥連升兩級？', 'time': '2019-11-26 21:38'}, {'title': '立院司機清晨就要接她... 柯志恩被爆濫用公務車拚選舉', 'time': '06:53'}, {'title': '啦啦隊女神全裸示人！飽滿E奶讓男明星全高潮了', 'time': '2019-11-26 20:21'}, {'title': '民調落後 韓國瑜諷：「得民調得痔瘡」', 'time': '2019-11-26 17:45'}, {'title': '日職》球團幫加薪到1億 他嚇到：我不需要那麼多', 'time': '08:18'}, {'title': '高以翔昏迷急救 浙江衛視驚悚爆「前科累累」', 'time': '10:24'}, {'title': '李佳芬被爆賣房漏報稅444萬 葉元之：一般小老百姓都會遇到', 'time': '12:12'}]\n"
     ]
    }
   ],
   "source": [
    "import requests\n",
    "import re\n",
    "from bs4 import BeautifulSoup\n",
    " \n",
    "#1.與網站溝通\n",
    "resp = requests.get('https://news.ltn.com.tw/list/breakingnews/popular')\n",
    "#2.剖析原始碼\n",
    "soup = BeautifulSoup(resp.text, 'html5lib')\n",
    "#3.定位資訊大概位置\n",
    "liberty = soup.find('ul', 'list').find_all('li')\n",
    "#4.創造空的清單存放資訊\n",
    "news=[]\n",
    "\n",
    "#5.迴圈爬取資料\n",
    "for a in liberty:\n",
    "    #5.1創造空的字典存放各筆資訊\n",
    "    new=dict()\n",
    "    #5.2創造「標題」:位置span標籤名稱/title屬性的字串\n",
    "    new['title'] =a.find('span','title').text.strip()\n",
    "    #5.3創造「時間」：位置span標籤名稱/time屬性的字串\n",
    "    new['time'] =a.find('span','time').text.strip()\n",
    "    #5.4將各比資訊加回清單中\n",
    "    news.append(new)\n",
    "    #5.5印出結果\n",
    "print(news)"
   ]
  },
  {
   "cell_type": "markdown",
   "metadata": {},
   "source": [
    "### 2.處理資料並儲存"
   ]
  },
  {
   "cell_type": "code",
   "execution_count": 2,
   "metadata": {},
   "outputs": [
    {
     "name": "stdout",
     "output_type": "stream",
     "text": [
      "                      time                          title\n",
      "news_NO.                                                 \n",
      "1                    06:35         香港局勢惡化 週刊爆陳小春幫兒子降級轉學來台\n",
      "2                    06:47         談韓國瑜現象  宋楚瑜嘆「台灣政治最大悲哀」\n",
      "3                    11:11              慟！高以翔中國錄影猝逝 享年35歲\n",
      "4                    08:31    CBA》才打9場林書豪就傳要被換掉？ 首鋼洋教頭說話了\n",
      "5         2019-11-26 17:30        花750萬買名車出現瑕疵修不好 率40員工抗議\n",
      "6                    12:07         高以翔昏迷猝逝 網翻節目黑歷史怒轟「快停播」\n",
      "7                    11:50         心碎！高以翔中國身亡 留下22歲白富美未婚妻\n",
      "8         2019-11-26 21:23    專屬翻譯蕭一傑氣到遞辭呈？ 週刊驚爆王柏融此舉成引爆點\n",
      "9                    09:52       羽球》戴資穎368萬台幣被拍下 印度聯賽最高身價\n",
      "10                   06:11       爆料中共介入台灣大選  王立強投誠澳洲內幕曝光！\n",
      "11                   00:58           共諜案2人讓她痛心 黃光芹：藍營需要道歉\n",
      "12        2019-11-26 17:44      棒球》還記得「瓢子」嗎？ 黑豹旗成為他教練生涯終戰\n",
      "13                   07:12         高以翔驚傳昏迷心臟停止跳動  緊急送醫搶救中\n",
      "14        2019-11-26 21:38         沈玉琳與韓市府關係好 傳公務員哥哥連升兩級？\n",
      "15                   06:53    立院司機清晨就要接她... 柯志恩被爆濫用公務車拚選舉\n",
      "16        2019-11-26 20:21         啦啦隊女神全裸示人！飽滿E奶讓男明星全高潮了\n",
      "17        2019-11-26 17:45             民調落後 韓國瑜諷：「得民調得痔瘡」\n",
      "18                   08:18        日職》球團幫加薪到1億 他嚇到：我不需要那麼多\n",
      "19                   10:24          高以翔昏迷急救 浙江衛視驚悚爆「前科累累」\n",
      "20                   12:12  李佳芬被爆賣房漏報稅444萬 葉元之：一般小老百姓都會遇到\n"
     ]
    }
   ],
   "source": [
    "import pandas as pd\n",
    "import numpy as np  \n",
    "\n",
    "#6.處理資料並儲存\n",
    "    #6.1將資料轉成dataframe\n",
    "test=pd.DataFrame(data=news)\n",
    "    #6.2將索引值從1開始\n",
    "test.index = np.arange(1,len(test)+1)\n",
    "    #6.3將索引值重新命名為編號\n",
    "test.index.names = ['news_NO.']\n",
    "    #6.4印出結果\n",
    "print(test)\n",
    "    #6.5儲存成csv檔\n",
    "test.to_csv('news.csv',encoding='utf_8_sig')"
   ]
  },
  {
   "cell_type": "markdown",
   "metadata": {},
   "source": [
    "# 無註解程式碼"
   ]
  },
  {
   "cell_type": "code",
   "execution_count": null,
   "metadata": {
    "collapsed": true
   },
   "outputs": [],
   "source": [
    "import requests\n",
    "import re\n",
    "from bs4 import BeautifulSoup\n",
    "import pandas as pd\n",
    "import numpy as np  \n",
    "\n",
    "resp = requests.get('https://news.ltn.com.tw/list/breakingnews/popular')\n",
    "soup = BeautifulSoup(resp.text, 'html5lib')\n",
    "liberty = soup.find('ul', 'list').find_all('li')\n",
    "news=[]\n",
    "\n",
    "for a in liberty:\n",
    "    new=dict()\n",
    "    new['title'] =a.find('span','title').text.strip()\n",
    "    new['time'] =a.find('span','time').text.strip()\n",
    "    news.append(new)\n",
    "\n",
    "print(news)\n",
    "\n",
    "\n",
    "test=pd.DataFrame(data=news)\n",
    "test.index = np.arange(1,len(test)+1)\n",
    "test.index.names = ['news_NO.']\n",
    "print(test)\n",
    "test.to_csv('news.csv',encoding='utf_8_sig')"
   ]
  },
  {
   "cell_type": "markdown",
   "metadata": {},
   "source": [
    "# urllib套件版本的爬蟲"
   ]
  },
  {
   "cell_type": "code",
   "execution_count": null,
   "metadata": {
    "collapsed": true
   },
   "outputs": [],
   "source": [
    "import urllib.request\n",
    "from bs4 import BeautifulSoup\n",
    "import pandas as pd\n",
    "import numpy as np  \n",
    "\n",
    "url='https://news.ltn.com.tw/list/breakingnews/popular'\n",
    "\n",
    "resp = urllib.request.urlopen(url).read()\n",
    "soup = BeautifulSoup(resp, 'html5lib')\n",
    "liberty = soup.find('ul', 'list').find_all('li')\n",
    "news=[]\n",
    "\n",
    "for a in liberty:\n",
    "    new=dict()\n",
    "    new['title'] =a.find('span','title').text.strip()\n",
    "    new['time'] =a.find('span','time').text.strip()\n",
    "    news.append(new)\n",
    "\n",
    "print(news)\n",
    "\n",
    "\n",
    "test=pd.DataFrame(data=news)\n",
    "test.index = np.arange(1,len(test)+1)\n",
    "test.index.names = ['news_NO.']\n",
    "print(test)\n",
    "test.to_csv('news.csv',encoding='utf_8_sig')"
   ]
  }
 ],
 "metadata": {
  "kernelspec": {
   "display_name": "Python 3",
   "language": "python",
   "name": "python3"
  },
  "language_info": {
   "codemirror_mode": {
    "name": "ipython",
    "version": 3
   },
   "file_extension": ".py",
   "mimetype": "text/x-python",
   "name": "python",
   "nbconvert_exporter": "python",
   "pygments_lexer": "ipython3",
   "version": "3.6.2"
  }
 },
 "nbformat": 4,
 "nbformat_minor": 2
}
