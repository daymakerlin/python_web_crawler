{
 "cells": [
  {
   "cell_type": "markdown",
   "metadata": {},
   "source": [
    "從《Python 網路爬蟲與資料分析入門實戰》第三章的範例中練習爬蟲\n",
    "\n",
    "從第三章蘋果日報今日熱門爬蟲範例中練習自己寫的程式碼\n",
    "\n",
    "書中原始程式碼來源：https://github.com/jwlin/web-crawler-tutorial/tree/master/ch3"
   ]
  },
  {
   "cell_type": "markdown",
   "metadata": {},
   "source": [
    "# 今日熱門新聞：(1)爬取資料 (2)儲存資料"
   ]
  },
  {
   "cell_type": "code",
   "execution_count": 1,
   "metadata": {},
   "outputs": [
    {
     "name": "stdout",
     "output_type": "stream",
     "text": [
      "[{'number': '01', 'title': '共諜疑雲 向心夫妻 疑買豪宅當基地 有中國軍事背景 國安單位早盯上 限制出境'}, {'number': '02', 'title': '何如芸 難忍撕心裂肺 倒數飛新加坡伴試管兒'}, {'number': '03', 'title': '【麻辣上選】斷開博恩之亂 韓總機換號碼囉'}, {'number': '04', 'title': '志玲AKIRA拍微電影 百年之戀明全球首播'}, {'number': '05', 'title': '許效舜深耕基隆 擲300萬泡茶'}, {'number': '06', 'title': '澤尻爆18歲沾毒 1周嘿咻4次'}, {'number': '07', 'title': '【選戰祕辛】爸是郭董 選興趣嗎'}, {'number': '08', 'title': '兄遭爆高市府職位2級跳 沈玉琳駁：我若請託 他就是局長'}, {'number': '09', 'title': '柯：輸民進黨是可恥的事 網評民眾黨不分區僅居次「贏國民黨不光榮」'}, {'number': '10', 'title': '謝金河起底向心夫妻公司 揪3疑點驚呼「奇怪」'}, {'number': '11', 'title': '何如芸 交際恐懼放風另一半 老公嗑鍋唱K上酒店'}, {'number': '12', 'title': '林鄭擬設獨立檢討委員會 迴避獨立調查訴求  泛民批「不倫不類」'}, {'number': '13', 'title': '《蘋果》29小時直擊 柯賜海貧病交迫 淪落睡公共浴室'}, {'number': '14', 'title': '辣蘋果：張善政與賴清德（余艾苔）'}, {'number': '15', 'title': '《蘋果》起底 向心捧1億投資 經部擋下 低調神祕 旗下公司掌共軍核心技術'}, {'number': '16', 'title': '人夫跨海取精 樂當新手爹「理科爸爸」數據育兒 笑稱：像到烏克蘭坐月子'}, {'number': '17', 'title': '訂不到餐位 日「壽司之神」丟米其林3星'}, {'number': '18', 'title': '「背後靈」成抗議天王 有過3段婚姻'}, {'number': '19', 'title': '來台談投資地熱 一碰面喊砸4億'}, {'number': '20', 'title': '蔡領先 韓酸「得民調得痔瘡」嗆蔡英文只看數字 遠離民心'}, {'number': '21', 'title': '澳專家指王立強自白「部分禁得起驗證」'}, {'number': '22', 'title': '向心來台買豪宅 妻子相隨瘋醫美'}, {'number': '23', 'title': '視覺台灣：路邊'}, {'number': '24', 'title': '丁丁跳 世界認證 丁華恬體操動作 台灣第1人'}, {'number': '25', 'title': '今天我最美'}, {'number': '26', 'title': '女大生喊「痛」，男友竟硬塞「它」！網友：老司機就是不一樣'}, {'number': '27', 'title': '罹巴金森氏症致步伐不穩 醫：病情已第3期'}, {'number': '28', 'title': '首見 張善政設副總統競辦 稱與韓國瑜南北合擊「3支艦隊」端施政牛肉'}, {'number': '29', 'title': '小布 婚變3年越吃越嫩 黏小25歲雙性戀'}, {'number': '30', 'title': '【喝湯話燒】毓蘭不知排第2是為團結 不然要團康嗎'}]\n"
     ]
    }
   ],
   "source": [
    "import requests\n",
    "from bs4 import BeautifulSoup\n",
    "\n",
    "url='https://tw.appledaily.com/hot/daily'\n",
    "\n",
    "#1.向網站發出請求\n",
    "resp = requests.get(url)\n",
    "#2.剖析網站原始碼\n",
    "soup = BeautifulSoup(resp.text, 'html5lib')\n",
    "#3.定位資訊的大概位置\n",
    "apple = soup.find('ul', 'all').find_all('li')\n",
    "#4.創造空的清單(放爬下來的資料)\n",
    "news = []\n",
    "\n",
    "#5.用迴圈將所需資訊一行一行爬取出來\n",
    "for a in apple:\n",
    "    #5.1創建一個空的字典(放資料)\n",
    "    new=dict()\n",
    "    #5.2創造「編號」：定位div標籤名稱/aht_title_num屬性的字串(30個新聞位置的共同名稱)\n",
    "    new['number']=a.find('div', 'aht_title_num').text\n",
    "    #5.3創造「新聞標題」：定位div標籤名稱/aht_title屬性的字串\n",
    "    new['title']=a.find('div', 'aht_title').text\n",
    "    #5.4將資料加進原先的清單中\n",
    "    news.append(new)\n",
    "    #5.5印出結果\n",
    "print(news)"
   ]
  },
  {
   "cell_type": "code",
   "execution_count": 2,
   "metadata": {},
   "outputs": [
    {
     "name": "stdout",
     "output_type": "stream",
     "text": [
      "                                         title\n",
      "number                                        \n",
      "01      共諜疑雲 向心夫妻 疑買豪宅當基地 有中國軍事背景 國安單位早盯上 限制出境\n",
      "02                       何如芸 難忍撕心裂肺 倒數飛新加坡伴試管兒\n",
      "03                        【麻辣上選】斷開博恩之亂 韓總機換號碼囉\n",
      "04                       志玲AKIRA拍微電影 百年之戀明全球首播\n",
      "05                             許效舜深耕基隆 擲300萬泡茶\n",
      "06                             澤尻爆18歲沾毒 1周嘿咻4次\n",
      "07                             【選戰祕辛】爸是郭董 選興趣嗎\n",
      "08                 兄遭爆高市府職位2級跳 沈玉琳駁：我若請託 他就是局長\n",
      "09            柯：輸民進黨是可恥的事 網評民眾黨不分區僅居次「贏國民黨不光榮」\n",
      "10                      謝金河起底向心夫妻公司 揪3疑點驚呼「奇怪」\n",
      "11                     何如芸 交際恐懼放風另一半 老公嗑鍋唱K上酒店\n",
      "12             林鄭擬設獨立檢討委員會 迴避獨立調查訴求  泛民批「不倫不類」\n",
      "13                  《蘋果》29小時直擊 柯賜海貧病交迫 淪落睡公共浴室\n",
      "14                            辣蘋果：張善政與賴清德（余艾苔）\n",
      "15        《蘋果》起底 向心捧1億投資 經部擋下 低調神祕 旗下公司掌共軍核心技術\n",
      "16          人夫跨海取精 樂當新手爹「理科爸爸」數據育兒 笑稱：像到烏克蘭坐月子\n",
      "17                         訂不到餐位 日「壽司之神」丟米其林3星\n",
      "18                           「背後靈」成抗議天王 有過3段婚姻\n",
      "19                             來台談投資地熱 一碰面喊砸4億\n",
      "20                 蔡領先 韓酸「得民調得痔瘡」嗆蔡英文只看數字 遠離民心\n",
      "21                          澳專家指王立強自白「部分禁得起驗證」\n",
      "22                             向心來台買豪宅 妻子相隨瘋醫美\n",
      "23                                     視覺台灣：路邊\n",
      "24                      丁丁跳 世界認證 丁華恬體操動作 台灣第1人\n",
      "25                                       今天我最美\n",
      "26                女大生喊「痛」，男友竟硬塞「它」！網友：老司機就是不一樣\n",
      "27                        罹巴金森氏症致步伐不穩 醫：病情已第3期\n",
      "28           首見 張善政設副總統競辦 稱與韓國瑜南北合擊「3支艦隊」端施政牛肉\n",
      "29                        小布 婚變3年越吃越嫩 黏小25歲雙性戀\n",
      "30                    【喝湯話燒】毓蘭不知排第2是為團結 不然要團康嗎\n"
     ]
    }
   ],
   "source": [
    "import pandas as pd\n",
    "import numpy as np  \n",
    "\n",
    "#6.處理資料並儲存\n",
    "    #6.1將資料轉為dataframe型態\n",
    "test=pd.DataFrame(data=news)\n",
    "    #6.2將內建索引值替換為「編號」\n",
    "test.set_index('number', inplace=True)\n",
    "    #6.3印出結果\n",
    "print(test)\n",
    "    #6.4儲存成csv檔案\n",
    "test.to_csv('news.csv',encoding='utf_8_sig')"
   ]
  },
  {
   "cell_type": "markdown",
   "metadata": {},
   "source": [
    "# 無註解程式碼"
   ]
  },
  {
   "cell_type": "code",
   "execution_count": null,
   "metadata": {
    "collapsed": true
   },
   "outputs": [],
   "source": [
    "import requests\n",
    "from bs4 import BeautifulSoup\n",
    "import pandas as pd\n",
    "import numpy as np  \n",
    "\n",
    "\n",
    "url='https://tw.appledaily.com/hot/daily'\n",
    "\n",
    "resp = requests.get(url)\n",
    "soup = BeautifulSoup(resp.text, 'html5lib')\n",
    "apple = soup.find('ul', 'all').find_all('li')\n",
    "news = []\n",
    "\n",
    "for a in apple:\n",
    "    new=dict()\n",
    "    new['number']=a.find('div', 'aht_title_num').text\n",
    "    new['title']=a.find('div', 'aht_title').text\n",
    "    news.append(new)\n",
    "\n",
    "print(news)\n",
    " \n",
    "\n",
    "test=pd.DataFrame(data=news)\n",
    "test.set_index('number', inplace=True)\n",
    "print(test)\n",
    "test.to_csv('news.csv',encoding='utf_8_sig')"
   ]
  },
  {
   "cell_type": "markdown",
   "metadata": {},
   "source": [
    "# urllib套件版本的爬蟲"
   ]
  },
  {
   "cell_type": "code",
   "execution_count": null,
   "metadata": {
    "collapsed": true
   },
   "outputs": [],
   "source": [
    "import urllib.request\n",
    "from bs4 import BeautifulSoup\n",
    "import pandas as pd\n",
    "import numpy as np  \n",
    "\n",
    "\n",
    "url='https://tw.appledaily.com/hot/daily'\n",
    "\n",
    "resp = urllib.request.urlopen(url).read()\n",
    "soup = BeautifulSoup(resp, 'html5lib')\n",
    "apple = soup.find('ul', 'all').find_all('li')\n",
    "news = []\n",
    "\n",
    "for a in apple:\n",
    "    new=dict()\n",
    "    new['number']=a.find('div', 'aht_title_num').text\n",
    "    new['title']=a.find('div', 'aht_title').text\n",
    "    news.append(new)\n",
    "\n",
    "print(news)\n",
    " \n",
    "\n",
    "test=pd.DataFrame(data=news)\n",
    "test.set_index('number', inplace=True)\n",
    "print(test)\n",
    "test.to_csv('news.csv',encoding='utf_8_sig')"
   ]
  }
 ],
 "metadata": {
  "kernelspec": {
   "display_name": "Python 3",
   "language": "python",
   "name": "python3"
  },
  "language_info": {
   "codemirror_mode": {
    "name": "ipython",
    "version": 3
   },
   "file_extension": ".py",
   "mimetype": "text/x-python",
   "name": "python",
   "nbconvert_exporter": "python",
   "pygments_lexer": "ipython3",
   "version": "3.6.2"
  }
 },
 "nbformat": 4,
 "nbformat_minor": 2
}
